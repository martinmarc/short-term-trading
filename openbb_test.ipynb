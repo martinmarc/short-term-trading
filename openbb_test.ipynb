{
 "cells": [
  {
   "cell_type": "code",
   "execution_count": 6,
   "metadata": {},
   "outputs": [],
   "source": [
    "from openbb import obb\n",
    "import polars as pl\n",
    "import duckdb"
   ]
  },
  {
   "cell_type": "code",
   "execution_count": 2,
   "metadata": {},
   "outputs": [],
   "source": [
    "\n",
    "df_monthly = (\n",
    "  obb.equity.price.historical(\"spy\", start_date=\"2024-08-30\", interval=\"1m\", provider=\"yfinance\")\n",
    "  .to_polars()\n",
    ")"
   ]
  },
  {
   "cell_type": "code",
   "execution_count": 3,
   "metadata": {},
   "outputs": [
    {
     "data": {
      "text/html": [
       "<div><style>\n",
       ".dataframe > thead > tr,\n",
       ".dataframe > tbody > tr {\n",
       "  text-align: right;\n",
       "  white-space: pre-wrap;\n",
       "}\n",
       "</style>\n",
       "<small>shape: (390, 9)</small><table border=\"1\" class=\"dataframe\"><thead><tr><th>date</th><th>open</th><th>high</th><th>low</th><th>close</th><th>volume</th><th>split_ratio</th><th>dividend</th><th>capital_gains</th></tr><tr><td>datetime[ns]</td><td>f64</td><td>f64</td><td>f64</td><td>f64</td><td>i64</td><td>f64</td><td>f64</td><td>f64</td></tr></thead><tbody><tr><td>2024-08-30 09:30:00</td><td>560.77002</td><td>560.950012</td><td>560.450012</td><td>560.789978</td><td>1358207</td><td>0.0</td><td>0.0</td><td>0.0</td></tr><tr><td>2024-08-30 09:31:00</td><td>560.820007</td><td>561.0</td><td>560.719971</td><td>560.75</td><td>137416</td><td>0.0</td><td>0.0</td><td>0.0</td></tr><tr><td>2024-08-30 09:32:00</td><td>560.73999</td><td>561.299988</td><td>560.72998</td><td>561.299927</td><td>135843</td><td>0.0</td><td>0.0</td><td>0.0</td></tr><tr><td>2024-08-30 09:33:00</td><td>561.208008</td><td>561.419983</td><td>561.039978</td><td>561.059204</td><td>187428</td><td>0.0</td><td>0.0</td><td>0.0</td></tr><tr><td>2024-08-30 09:34:00</td><td>561.049988</td><td>561.26001</td><td>560.929993</td><td>561.237488</td><td>122207</td><td>0.0</td><td>0.0</td><td>0.0</td></tr><tr><td>&hellip;</td><td>&hellip;</td><td>&hellip;</td><td>&hellip;</td><td>&hellip;</td><td>&hellip;</td><td>&hellip;</td><td>&hellip;</td><td>&hellip;</td></tr><tr><td>2024-08-30 15:55:00</td><td>563.400024</td><td>563.859985</td><td>563.309998</td><td>563.63501</td><td>792096</td><td>0.0</td><td>0.0</td><td>0.0</td></tr><tr><td>2024-08-30 15:56:00</td><td>563.63501</td><td>563.950012</td><td>563.539978</td><td>563.705017</td><td>887083</td><td>0.0</td><td>0.0</td><td>0.0</td></tr><tr><td>2024-08-30 15:57:00</td><td>563.710022</td><td>564.030029</td><td>563.710022</td><td>564.02002</td><td>940866</td><td>0.0</td><td>0.0</td><td>0.0</td></tr><tr><td>2024-08-30 15:58:00</td><td>564.02002</td><td>564.044983</td><td>563.450012</td><td>563.789978</td><td>1278631</td><td>0.0</td><td>0.0</td><td>0.0</td></tr><tr><td>2024-08-30 15:59:00</td><td>563.580017</td><td>564.200012</td><td>563.51001</td><td>563.580017</td><td>2590900</td><td>0.0</td><td>0.0</td><td>0.0</td></tr></tbody></table></div>"
      ],
      "text/plain": [
       "shape: (390, 9)\n",
       "┌────────────┬────────────┬───────────┬───────────┬───┬─────────┬───────────┬──────────┬───────────┐\n",
       "│ date       ┆ open       ┆ high      ┆ low       ┆ … ┆ volume  ┆ split_rat ┆ dividend ┆ capital_g │\n",
       "│ ---        ┆ ---        ┆ ---       ┆ ---       ┆   ┆ ---     ┆ io        ┆ ---      ┆ ains      │\n",
       "│ datetime[n ┆ f64        ┆ f64       ┆ f64       ┆   ┆ i64     ┆ ---       ┆ f64      ┆ ---       │\n",
       "│ s]         ┆            ┆           ┆           ┆   ┆         ┆ f64       ┆          ┆ f64       │\n",
       "╞════════════╪════════════╪═══════════╪═══════════╪═══╪═════════╪═══════════╪══════════╪═══════════╡\n",
       "│ 2024-08-30 ┆ 560.77002  ┆ 560.95001 ┆ 560.45001 ┆ … ┆ 1358207 ┆ 0.0       ┆ 0.0      ┆ 0.0       │\n",
       "│ 09:30:00   ┆            ┆ 2         ┆ 2         ┆   ┆         ┆           ┆          ┆           │\n",
       "│ 2024-08-30 ┆ 560.820007 ┆ 561.0     ┆ 560.71997 ┆ … ┆ 137416  ┆ 0.0       ┆ 0.0      ┆ 0.0       │\n",
       "│ 09:31:00   ┆            ┆           ┆ 1         ┆   ┆         ┆           ┆          ┆           │\n",
       "│ 2024-08-30 ┆ 560.73999  ┆ 561.29998 ┆ 560.72998 ┆ … ┆ 135843  ┆ 0.0       ┆ 0.0      ┆ 0.0       │\n",
       "│ 09:32:00   ┆            ┆ 8         ┆           ┆   ┆         ┆           ┆          ┆           │\n",
       "│ 2024-08-30 ┆ 561.208008 ┆ 561.41998 ┆ 561.03997 ┆ … ┆ 187428  ┆ 0.0       ┆ 0.0      ┆ 0.0       │\n",
       "│ 09:33:00   ┆            ┆ 3         ┆ 8         ┆   ┆         ┆           ┆          ┆           │\n",
       "│ 2024-08-30 ┆ 561.049988 ┆ 561.26001 ┆ 560.92999 ┆ … ┆ 122207  ┆ 0.0       ┆ 0.0      ┆ 0.0       │\n",
       "│ 09:34:00   ┆            ┆           ┆ 3         ┆   ┆         ┆           ┆          ┆           │\n",
       "│ …          ┆ …          ┆ …         ┆ …         ┆ … ┆ …       ┆ …         ┆ …        ┆ …         │\n",
       "│ 2024-08-30 ┆ 563.400024 ┆ 563.85998 ┆ 563.30999 ┆ … ┆ 792096  ┆ 0.0       ┆ 0.0      ┆ 0.0       │\n",
       "│ 15:55:00   ┆            ┆ 5         ┆ 8         ┆   ┆         ┆           ┆          ┆           │\n",
       "│ 2024-08-30 ┆ 563.63501  ┆ 563.95001 ┆ 563.53997 ┆ … ┆ 887083  ┆ 0.0       ┆ 0.0      ┆ 0.0       │\n",
       "│ 15:56:00   ┆            ┆ 2         ┆ 8         ┆   ┆         ┆           ┆          ┆           │\n",
       "│ 2024-08-30 ┆ 563.710022 ┆ 564.03002 ┆ 563.71002 ┆ … ┆ 940866  ┆ 0.0       ┆ 0.0      ┆ 0.0       │\n",
       "│ 15:57:00   ┆            ┆ 9         ┆ 2         ┆   ┆         ┆           ┆          ┆           │\n",
       "│ 2024-08-30 ┆ 564.02002  ┆ 564.04498 ┆ 563.45001 ┆ … ┆ 1278631 ┆ 0.0       ┆ 0.0      ┆ 0.0       │\n",
       "│ 15:58:00   ┆            ┆ 3         ┆ 2         ┆   ┆         ┆           ┆          ┆           │\n",
       "│ 2024-08-30 ┆ 563.580017 ┆ 564.20001 ┆ 563.51001 ┆ … ┆ 2590900 ┆ 0.0       ┆ 0.0      ┆ 0.0       │\n",
       "│ 15:59:00   ┆            ┆ 2         ┆           ┆   ┆         ┆           ┆          ┆           │\n",
       "└────────────┴────────────┴───────────┴───────────┴───┴─────────┴───────────┴──────────┴───────────┘"
      ]
     },
     "execution_count": 3,
     "metadata": {},
     "output_type": "execute_result"
    }
   ],
   "source": [
    "df_monthly"
   ]
  },
  {
   "cell_type": "code",
   "execution_count": null,
   "metadata": {},
   "outputs": [],
   "source": []
  }
 ],
 "metadata": {
  "kernelspec": {
   "display_name": "helicopter",
   "language": "python",
   "name": "python3"
  },
  "language_info": {
   "codemirror_mode": {
    "name": "ipython",
    "version": 3
   },
   "file_extension": ".py",
   "mimetype": "text/x-python",
   "name": "python",
   "nbconvert_exporter": "python",
   "pygments_lexer": "ipython3",
   "version": "3.12.5"
  }
 },
 "nbformat": 4,
 "nbformat_minor": 2
}
